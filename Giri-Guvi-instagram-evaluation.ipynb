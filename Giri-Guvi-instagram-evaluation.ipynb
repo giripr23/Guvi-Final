{
 "cells": [
  {
   "cell_type": "code",
   "execution_count": 130,
   "id": "9d9c72af",
   "metadata": {},
   "outputs": [
    {
     "name": "stdout",
     "output_type": "stream",
     "text": [
      "   Rank   Channel Info  Influence Score Followers Avg. Likes Posts   \n",
      "0     1    \\ncristiano               92    485.2m       8.7m  3.4k  \\\n",
      "1     2    kyliejenner               91    370.7m       8.2m  7.0k   \n",
      "2     3     \\nleomessi               90    363.9m       6.7m   915   \n",
      "3     4  \\nselenagomez               93    348.8m       6.1m  1.9k   \n",
      "4     5      \\ntherock               91    339.4m       1.8m  6.8k   \n",
      "\n",
      "   60-Day Eng Rate New Post Avg. Likes Total Likes Country Or Region  \n",
      "0            0.013                6.3m       29.1b             Spain  \n",
      "1            0.014                5.0m       57.4b     United States  \n",
      "2            0.010                3.5m        6.1b               NaN  \n",
      "3            0.005                1.7m       11.4b     United States  \n",
      "4            0.003              932.0k       12.6b     United States  \n"
     ]
    }
   ],
   "source": [
    "import pandas as pd\n",
    "\n",
    "from statsmodels.stats.outliers_influence import variance_inflation_factor\n",
    "\n",
    "data = pd.read_csv('Influencer.csv')\n",
    "print(data.head())\n"
   ]
  },
  {
   "cell_type": "code",
   "execution_count": 131,
   "id": "07a7ad2e",
   "metadata": {},
   "outputs": [
    {
     "name": "stdout",
     "output_type": "stream",
     "text": [
      "(200, 10)\n"
     ]
    }
   ],
   "source": [
    "print(data.shape)"
   ]
  },
  {
   "cell_type": "code",
   "execution_count": 132,
   "id": "a8382a1a",
   "metadata": {},
   "outputs": [
    {
     "name": "stdout",
     "output_type": "stream",
     "text": [
      "   Rank   Channel Info  Influence Score Followers Avg. Likes Posts   \n",
      "0     1    \\ncristiano               92    485.2m       8.7m  3.4k  \\\n",
      "1     2    kyliejenner               91    370.7m       8.2m  7.0k   \n",
      "2     3     \\nleomessi               90    363.9m       6.7m   915   \n",
      "3     4  \\nselenagomez               93    348.8m       6.1m  1.9k   \n",
      "4     5      \\ntherock               91    339.4m       1.8m  6.8k   \n",
      "\n",
      "   60-Day Eng Rate New Post Avg. Likes Total Likes Country Or Region  \n",
      "0            0.013                6.3m       29.1b             Spain  \n",
      "1            0.014                5.0m       57.4b     United States  \n",
      "2            0.010                3.5m        6.1b               NaN  \n",
      "3            0.005                1.7m       11.4b     United States  \n",
      "4            0.003              932.0k       12.6b     United States  \n"
     ]
    }
   ],
   "source": [
    "# Remove column name 'Channel Info' , 'Country Or Region'\n",
    "## data = data.drop(['Channel Info' , 'Country Or Region'], axis=1)\n",
    "# data = data.drop(['Channel Info'], axis=1)\n",
    "## data = data.drop(['Country Or Region'], axis=1)\n",
    "print(data.head())"
   ]
  },
  {
   "cell_type": "code",
   "execution_count": 133,
   "id": "65897e28",
   "metadata": {},
   "outputs": [],
   "source": [
    "def value_to_float(x):\n",
    "    if type(x) == float or type(x) == int:\n",
    "        return x\n",
    "    if 'k' in x:\n",
    "        if len(x) > 1:\n",
    "            return float(x.replace('k', '')) * 1000\n",
    "        return 1000.0\n",
    "    if 'm' in x:\n",
    "        if len(x) > 1:\n",
    "            return float(x.replace('m', '')) * 1000000\n",
    "        return 1000000.0\n",
    "    if 'b' in x:\n",
    "        return float(x.replace('b', '')) * 1000000000\n",
    "    return 0.0\n"
   ]
  },
  {
   "cell_type": "code",
   "execution_count": 134,
   "id": "a778d0c8",
   "metadata": {},
   "outputs": [],
   "source": [
    "data['Followers'] = data['Followers'].apply(value_to_float)"
   ]
  },
  {
   "cell_type": "code",
   "execution_count": 135,
   "id": "4f75b983",
   "metadata": {},
   "outputs": [],
   "source": [
    "data['Avg. Likes'] = data['Avg. Likes'].apply(value_to_float)"
   ]
  },
  {
   "cell_type": "code",
   "execution_count": 136,
   "id": "6d8700cb",
   "metadata": {},
   "outputs": [],
   "source": [
    "data['Posts'] = data['Posts'].apply(value_to_float)"
   ]
  },
  {
   "cell_type": "code",
   "execution_count": 137,
   "id": "cfc7609f",
   "metadata": {},
   "outputs": [],
   "source": [
    "data['New Post Avg. Likes'] = data['New Post Avg. Likes'].apply(value_to_float)"
   ]
  },
  {
   "cell_type": "code",
   "execution_count": 138,
   "id": "a28339e5",
   "metadata": {},
   "outputs": [],
   "source": [
    "data['Total Likes'] = data['Total Likes'].apply(value_to_float)"
   ]
  },
  {
   "cell_type": "code",
   "execution_count": 139,
   "id": "a05eb41e",
   "metadata": {},
   "outputs": [
    {
     "name": "stdout",
     "output_type": "stream",
     "text": [
      "   Rank   Channel Info  Influence Score    Followers  Avg. Likes   Posts   \n",
      "0     1    \\ncristiano               92  485200000.0   8700000.0  3400.0  \\\n",
      "1     2    kyliejenner               91  370700000.0   8200000.0  7000.0   \n",
      "2     3     \\nleomessi               90  363900000.0   6700000.0     0.0   \n",
      "3     4  \\nselenagomez               93  348800000.0   6100000.0  1900.0   \n",
      "4     5      \\ntherock               91  339400000.0   1800000.0  6800.0   \n",
      "\n",
      "   60-Day Eng Rate  New Post Avg. Likes   Total Likes Country Or Region  \n",
      "0            0.013            6300000.0  2.910000e+10             Spain  \n",
      "1            0.014            5000000.0  5.740000e+10     United States  \n",
      "2            0.010            3500000.0  6.100000e+09               NaN  \n",
      "3            0.005            1700000.0  1.140000e+10     United States  \n",
      "4            0.003             932000.0  1.260000e+10     United States  \n"
     ]
    }
   ],
   "source": [
    "print(data.head())"
   ]
  },
  {
   "cell_type": "code",
   "execution_count": 140,
   "id": "83f11513",
   "metadata": {},
   "outputs": [],
   "source": [
    "# data['Gender'] = data['Gender'].map({'Male':0, 'Female':1})\n",
    "\n",
    "X = data[['Rank', 'Influence Score', 'Followers' , 'Avg. Likes' , 'Posts', 'New Post Avg. Likes', 'Total Likes']]\n",
    "\n",
    "X = data[['60-Day Eng Rate' , 'Rank', 'Influence Score']]"
   ]
  },
  {
   "cell_type": "markdown",
   "id": "e5ff1baa",
   "metadata": {},
   "source": [
    "## Are there any correlated features in the given dataset? \n",
    "## If yes, state the correlation coefficient of the pair of features which are highly correlated."
   ]
  },
  {
   "cell_type": "code",
   "execution_count": 141,
   "id": "9a28b6f9",
   "metadata": {},
   "outputs": [
    {
     "name": "stdout",
     "output_type": "stream",
     "text": [
      "               feature        VIF\n",
      "0                 Rank   6.588899\n",
      "1      Influence Score  14.999564\n",
      "2            Followers   6.479863\n",
      "3           Avg. Likes   9.646810\n",
      "4                Posts   2.721247\n",
      "5  New Post Avg. Likes   7.663706\n",
      "6          Total Likes   3.194180\n"
     ]
    }
   ],
   "source": [
    "\n",
    "X = data[['Rank', 'Influence Score', 'Followers' , 'Avg. Likes' , 'Posts', 'New Post Avg. Likes', 'Total Likes']]\n",
    "\n",
    "vif_data = pd.DataFrame()\n",
    "vif_data[\"feature\"] = X.columns\n",
    "\n",
    "vif_data[\"VIF\"] = [variance_inflation_factor(X.values, i) for i in range(len(X.columns))]\n",
    "\n",
    "print(vif_data)"
   ]
  },
  {
   "cell_type": "code",
   "execution_count": 142,
   "id": "4301ebf6",
   "metadata": {},
   "outputs": [
    {
     "name": "stdout",
     "output_type": "stream",
     "text": [
      "Index(['Rank', 'Influence Score', 'Followers', 'Avg. Likes', 'Posts',\n",
      "       'New Post Avg. Likes', 'Total Likes'],\n",
      "      dtype='object')\n"
     ]
    }
   ],
   "source": [
    "print(X.columns)"
   ]
  },
  {
   "cell_type": "code",
   "execution_count": 143,
   "id": "8884d3b7",
   "metadata": {},
   "outputs": [
    {
     "name": "stdout",
     "output_type": "stream",
     "text": [
      "[[1.000e+00 9.200e+01 4.852e+08 ... 3.400e+03 6.300e+06 2.910e+10]\n",
      " [2.000e+00 9.100e+01 3.707e+08 ... 7.000e+03 5.000e+06 5.740e+10]\n",
      " [3.000e+00 9.000e+01 3.639e+08 ... 0.000e+00 3.500e+06 6.100e+09]\n",
      " ...\n",
      " [1.980e+02 8.000e+01 3.360e+07 ... 4.200e+03 1.032e+05 9.559e+08]\n",
      " [1.990e+02 7.900e+01 3.350e+07 ... 0.000e+00 8.260e+04 1.672e+08]\n",
      " [2.000e+02 8.100e+01 3.340e+07 ... 3.800e+03 1.282e+05 1.500e+09]]\n"
     ]
    }
   ],
   "source": [
    "print(X.values)"
   ]
  },
  {
   "cell_type": "code",
   "execution_count": 144,
   "id": "53246654",
   "metadata": {},
   "outputs": [
    {
     "name": "stdout",
     "output_type": "stream",
     "text": [
      "     Rank  Influence Score    Followers  Avg. Likes   Posts   \n",
      "0       1               92  485200000.0   8700000.0  3400.0  \\\n",
      "1       2               91  370700000.0   8200000.0  7000.0   \n",
      "2       3               90  363900000.0   6700000.0     0.0   \n",
      "3       4               93  348800000.0   6100000.0  1900.0   \n",
      "4       5               91  339400000.0   1800000.0  6800.0   \n",
      "..    ...              ...          ...         ...     ...   \n",
      "195   196               63   33600000.0    680600.0  4600.0   \n",
      "196   197               84   33600000.0   2200000.0  1400.0   \n",
      "197   198               80   33600000.0    227800.0  4200.0   \n",
      "198   199               79   33500000.0    193300.0     0.0   \n",
      "199   200               81   33400000.0    382500.0  3800.0   \n",
      "\n",
      "     New Post Avg. Likes   Total Likes  \n",
      "0              6300000.0  2.910000e+10  \n",
      "1              5000000.0  5.740000e+10  \n",
      "2              3500000.0  6.100000e+09  \n",
      "3              1700000.0  1.140000e+10  \n",
      "4               932000.0  1.260000e+10  \n",
      "..                   ...           ...  \n",
      "195             305700.0  3.100000e+09  \n",
      "196            2100000.0  3.000000e+09  \n",
      "197             103200.0  9.559000e+08  \n",
      "198              82600.0  1.672000e+08  \n",
      "199             128200.0  1.500000e+09  \n",
      "\n",
      "[200 rows x 7 columns]\n"
     ]
    }
   ],
   "source": [
    "print(X)"
   ]
  },
  {
   "cell_type": "code",
   "execution_count": 145,
   "id": "4133cdcc",
   "metadata": {},
   "outputs": [],
   "source": [
    "#for i in range(len(X.columns))\n",
    "#    print(i)"
   ]
  },
  {
   "cell_type": "code",
   "execution_count": 146,
   "id": "8882034f",
   "metadata": {},
   "outputs": [],
   "source": [
    "## https://www.geeksforgeeks.org/how-to-create-frequency-tables-in-python/\n",
    "## https://medium.com/@maheswararedypr/frequency-distribution-explanation-with-and-example-631244822199\n",
    "x_values = data['Influence Score'].values\n",
    "probabilities = [0.10, 0.20, 0.30, 0.40, 0.50, 0.60, 0.70, 0.80, 0.90, 0.100]\n",
    "# x_values = [0, 1, 2, 3, 4, 5]"
   ]
  },
  {
   "cell_type": "code",
   "execution_count": 147,
   "id": "5eda9171",
   "metadata": {},
   "outputs": [
    {
     "data": {
      "text/plain": [
       "(200, 10)"
      ]
     },
     "execution_count": 147,
     "metadata": {},
     "output_type": "execute_result"
    }
   ],
   "source": [
    "data.shape"
   ]
  },
  {
   "cell_type": "code",
   "execution_count": 148,
   "id": "0d24d979",
   "metadata": {},
   "outputs": [
    {
     "data": {
      "text/plain": [
       "array([92, 91, 90, 93, 91, 92, 91, 92, 89, 91, 90, 91, 90, 91, 89, 87, 90,\n",
       "       89, 89, 90, 92, 88, 87, 75, 88, 88, 86, 90, 87, 85, 86, 90, 73, 85,\n",
       "       74, 88, 88, 85, 70, 86, 88, 85, 86, 81, 88, 86, 84, 82, 87, 76, 83,\n",
       "       85, 83, 78, 77, 78, 87, 85, 82, 87, 77, 82, 83, 85, 82, 85, 82, 82,\n",
       "       84, 86, 85, 85, 86, 79, 80, 42, 86, 83, 86, 86, 80, 86, 87, 79, 86,\n",
       "       76, 86, 84, 74, 87, 83, 86, 22, 87, 85, 79, 83, 82, 85, 76, 84, 80,\n",
       "       86, 85, 81, 84, 80, 86, 85, 82, 85, 85, 85, 81, 86, 57, 84, 85, 82,\n",
       "       78, 84, 85, 82, 80, 82, 86, 85, 42, 84, 85, 84, 83, 85, 76, 83, 81,\n",
       "       85, 84, 83, 83, 86, 83, 80, 73, 85, 80, 85, 81, 85, 75, 75, 80, 81,\n",
       "       85, 85, 84, 58, 79, 78, 74, 80, 84, 85, 83, 83, 83, 84, 80, 76, 85,\n",
       "       83, 84, 77, 76, 47, 78, 82, 83, 80, 81, 72, 83, 83, 81, 84, 84, 68,\n",
       "       77, 83, 83, 41, 79, 71, 84, 75, 63, 84, 80, 79, 81])"
      ]
     },
     "execution_count": 148,
     "metadata": {},
     "output_type": "execute_result"
    }
   ],
   "source": [
    "x_values "
   ]
  },
  {
   "cell_type": "markdown",
   "id": "541754b8",
   "metadata": {},
   "source": [
    "# What is the frequency distribution of the following features? ○ Influence Score"
   ]
  },
  {
   "cell_type": "code",
   "execution_count": 149,
   "id": "c16bd129",
   "metadata": {},
   "outputs": [
    {
     "data": {
      "text/html": [
       "<div>\n",
       "<style scoped>\n",
       "    .dataframe tbody tr th:only-of-type {\n",
       "        vertical-align: middle;\n",
       "    }\n",
       "\n",
       "    .dataframe tbody tr th {\n",
       "        vertical-align: top;\n",
       "    }\n",
       "\n",
       "    .dataframe thead th {\n",
       "        text-align: right;\n",
       "    }\n",
       "</style>\n",
       "<table border=\"1\" class=\"dataframe\">\n",
       "  <thead>\n",
       "    <tr style=\"text-align: right;\">\n",
       "      <th>col_0</th>\n",
       "      <th>no_of_times</th>\n",
       "    </tr>\n",
       "    <tr>\n",
       "      <th>Influence Score</th>\n",
       "      <th></th>\n",
       "    </tr>\n",
       "  </thead>\n",
       "  <tbody>\n",
       "    <tr>\n",
       "      <th>22</th>\n",
       "      <td>1</td>\n",
       "    </tr>\n",
       "    <tr>\n",
       "      <th>41</th>\n",
       "      <td>1</td>\n",
       "    </tr>\n",
       "    <tr>\n",
       "      <th>42</th>\n",
       "      <td>2</td>\n",
       "    </tr>\n",
       "    <tr>\n",
       "      <th>47</th>\n",
       "      <td>1</td>\n",
       "    </tr>\n",
       "    <tr>\n",
       "      <th>57</th>\n",
       "      <td>1</td>\n",
       "    </tr>\n",
       "    <tr>\n",
       "      <th>58</th>\n",
       "      <td>1</td>\n",
       "    </tr>\n",
       "    <tr>\n",
       "      <th>63</th>\n",
       "      <td>1</td>\n",
       "    </tr>\n",
       "    <tr>\n",
       "      <th>68</th>\n",
       "      <td>1</td>\n",
       "    </tr>\n",
       "    <tr>\n",
       "      <th>70</th>\n",
       "      <td>1</td>\n",
       "    </tr>\n",
       "    <tr>\n",
       "      <th>71</th>\n",
       "      <td>1</td>\n",
       "    </tr>\n",
       "    <tr>\n",
       "      <th>72</th>\n",
       "      <td>1</td>\n",
       "    </tr>\n",
       "    <tr>\n",
       "      <th>73</th>\n",
       "      <td>2</td>\n",
       "    </tr>\n",
       "    <tr>\n",
       "      <th>74</th>\n",
       "      <td>3</td>\n",
       "    </tr>\n",
       "    <tr>\n",
       "      <th>75</th>\n",
       "      <td>4</td>\n",
       "    </tr>\n",
       "    <tr>\n",
       "      <th>76</th>\n",
       "      <td>6</td>\n",
       "    </tr>\n",
       "    <tr>\n",
       "      <th>77</th>\n",
       "      <td>4</td>\n",
       "    </tr>\n",
       "    <tr>\n",
       "      <th>78</th>\n",
       "      <td>5</td>\n",
       "    </tr>\n",
       "    <tr>\n",
       "      <th>79</th>\n",
       "      <td>6</td>\n",
       "    </tr>\n",
       "    <tr>\n",
       "      <th>80</th>\n",
       "      <td>12</td>\n",
       "    </tr>\n",
       "    <tr>\n",
       "      <th>81</th>\n",
       "      <td>9</td>\n",
       "    </tr>\n",
       "    <tr>\n",
       "      <th>82</th>\n",
       "      <td>12</td>\n",
       "    </tr>\n",
       "    <tr>\n",
       "      <th>83</th>\n",
       "      <td>20</td>\n",
       "    </tr>\n",
       "    <tr>\n",
       "      <th>84</th>\n",
       "      <td>18</td>\n",
       "    </tr>\n",
       "    <tr>\n",
       "      <th>85</th>\n",
       "      <td>30</td>\n",
       "    </tr>\n",
       "    <tr>\n",
       "      <th>86</th>\n",
       "      <td>19</td>\n",
       "    </tr>\n",
       "    <tr>\n",
       "      <th>87</th>\n",
       "      <td>9</td>\n",
       "    </tr>\n",
       "    <tr>\n",
       "      <th>88</th>\n",
       "      <td>7</td>\n",
       "    </tr>\n",
       "    <tr>\n",
       "      <th>89</th>\n",
       "      <td>4</td>\n",
       "    </tr>\n",
       "    <tr>\n",
       "      <th>90</th>\n",
       "      <td>7</td>\n",
       "    </tr>\n",
       "    <tr>\n",
       "      <th>91</th>\n",
       "      <td>6</td>\n",
       "    </tr>\n",
       "    <tr>\n",
       "      <th>92</th>\n",
       "      <td>4</td>\n",
       "    </tr>\n",
       "    <tr>\n",
       "      <th>93</th>\n",
       "      <td>1</td>\n",
       "    </tr>\n",
       "  </tbody>\n",
       "</table>\n",
       "</div>"
      ],
      "text/plain": [
       "col_0            no_of_times\n",
       "Influence Score             \n",
       "22                         1\n",
       "41                         1\n",
       "42                         2\n",
       "47                         1\n",
       "57                         1\n",
       "58                         1\n",
       "63                         1\n",
       "68                         1\n",
       "70                         1\n",
       "71                         1\n",
       "72                         1\n",
       "73                         2\n",
       "74                         3\n",
       "75                         4\n",
       "76                         6\n",
       "77                         4\n",
       "78                         5\n",
       "79                         6\n",
       "80                        12\n",
       "81                         9\n",
       "82                        12\n",
       "83                        20\n",
       "84                        18\n",
       "85                        30\n",
       "86                        19\n",
       "87                         9\n",
       "88                         7\n",
       "89                         4\n",
       "90                         7\n",
       "91                         6\n",
       "92                         4\n",
       "93                         1"
      ]
     },
     "execution_count": 149,
     "metadata": {},
     "output_type": "execute_result"
    }
   ],
   "source": [
    "# one way frequency table for the species column. \n",
    "freq_table = pd.crosstab(data['Influence Score'], 'no_of_times') \n",
    "freq_table "
   ]
  },
  {
   "cell_type": "markdown",
   "id": "518d5404",
   "metadata": {},
   "source": [
    "# What is the frequency distribution of the following features? ○ Followers"
   ]
  },
  {
   "cell_type": "code",
   "execution_count": 150,
   "id": "99e652fd",
   "metadata": {},
   "outputs": [
    {
     "data": {
      "text/html": [
       "<div>\n",
       "<style scoped>\n",
       "    .dataframe tbody tr th:only-of-type {\n",
       "        vertical-align: middle;\n",
       "    }\n",
       "\n",
       "    .dataframe tbody tr th {\n",
       "        vertical-align: top;\n",
       "    }\n",
       "\n",
       "    .dataframe thead th {\n",
       "        text-align: right;\n",
       "    }\n",
       "</style>\n",
       "<table border=\"1\" class=\"dataframe\">\n",
       "  <thead>\n",
       "    <tr style=\"text-align: right;\">\n",
       "      <th>col_0</th>\n",
       "      <th>no_of_times</th>\n",
       "    </tr>\n",
       "    <tr>\n",
       "      <th>Followers</th>\n",
       "      <th></th>\n",
       "    </tr>\n",
       "  </thead>\n",
       "  <tbody>\n",
       "    <tr>\n",
       "      <th>33400000.0</th>\n",
       "      <td>1</td>\n",
       "    </tr>\n",
       "    <tr>\n",
       "      <th>33500000.0</th>\n",
       "      <td>1</td>\n",
       "    </tr>\n",
       "    <tr>\n",
       "      <th>33600000.0</th>\n",
       "      <td>3</td>\n",
       "    </tr>\n",
       "    <tr>\n",
       "      <th>33700000.0</th>\n",
       "      <td>1</td>\n",
       "    </tr>\n",
       "    <tr>\n",
       "      <th>33800000.0</th>\n",
       "      <td>3</td>\n",
       "    </tr>\n",
       "    <tr>\n",
       "      <th>...</th>\n",
       "      <td>...</td>\n",
       "    </tr>\n",
       "    <tr>\n",
       "      <th>339400000.0</th>\n",
       "      <td>1</td>\n",
       "    </tr>\n",
       "    <tr>\n",
       "      <th>348800000.0</th>\n",
       "      <td>1</td>\n",
       "    </tr>\n",
       "    <tr>\n",
       "      <th>363900000.0</th>\n",
       "      <td>1</td>\n",
       "    </tr>\n",
       "    <tr>\n",
       "      <th>370700000.0</th>\n",
       "      <td>1</td>\n",
       "    </tr>\n",
       "    <tr>\n",
       "      <th>485200000.0</th>\n",
       "      <td>1</td>\n",
       "    </tr>\n",
       "  </tbody>\n",
       "</table>\n",
       "<p>172 rows × 1 columns</p>\n",
       "</div>"
      ],
      "text/plain": [
       "col_0        no_of_times\n",
       "Followers               \n",
       "33400000.0             1\n",
       "33500000.0             1\n",
       "33600000.0             3\n",
       "33700000.0             1\n",
       "33800000.0             3\n",
       "...                  ...\n",
       "339400000.0            1\n",
       "348800000.0            1\n",
       "363900000.0            1\n",
       "370700000.0            1\n",
       "485200000.0            1\n",
       "\n",
       "[172 rows x 1 columns]"
      ]
     },
     "execution_count": 150,
     "metadata": {},
     "output_type": "execute_result"
    }
   ],
   "source": [
    "freq_table = pd.crosstab(data['Followers'], 'no_of_times') \n",
    "freq_table "
   ]
  },
  {
   "cell_type": "markdown",
   "id": "d76d77a1",
   "metadata": {},
   "source": [
    "# What is the frequency distribution of the following features? ○ Posts"
   ]
  },
  {
   "cell_type": "code",
   "execution_count": 151,
   "id": "35e6f3a7",
   "metadata": {},
   "outputs": [
    {
     "data": {
      "text/html": [
       "<div>\n",
       "<style scoped>\n",
       "    .dataframe tbody tr th:only-of-type {\n",
       "        vertical-align: middle;\n",
       "    }\n",
       "\n",
       "    .dataframe tbody tr th {\n",
       "        vertical-align: top;\n",
       "    }\n",
       "\n",
       "    .dataframe thead th {\n",
       "        text-align: right;\n",
       "    }\n",
       "</style>\n",
       "<table border=\"1\" class=\"dataframe\">\n",
       "  <thead>\n",
       "    <tr style=\"text-align: right;\">\n",
       "      <th>col_0</th>\n",
       "      <th>no_of_times</th>\n",
       "    </tr>\n",
       "    <tr>\n",
       "      <th>Posts</th>\n",
       "      <th></th>\n",
       "    </tr>\n",
       "  </thead>\n",
       "  <tbody>\n",
       "    <tr>\n",
       "      <th>0.0</th>\n",
       "      <td>54</td>\n",
       "    </tr>\n",
       "    <tr>\n",
       "      <th>1000.0</th>\n",
       "      <td>3</td>\n",
       "    </tr>\n",
       "    <tr>\n",
       "      <th>1100.0</th>\n",
       "      <td>2</td>\n",
       "    </tr>\n",
       "    <tr>\n",
       "      <th>1200.0</th>\n",
       "      <td>9</td>\n",
       "    </tr>\n",
       "    <tr>\n",
       "      <th>1300.0</th>\n",
       "      <td>4</td>\n",
       "    </tr>\n",
       "    <tr>\n",
       "      <th>...</th>\n",
       "      <td>...</td>\n",
       "    </tr>\n",
       "    <tr>\n",
       "      <th>10100.0</th>\n",
       "      <td>1</td>\n",
       "    </tr>\n",
       "    <tr>\n",
       "      <th>10400.0</th>\n",
       "      <td>1</td>\n",
       "    </tr>\n",
       "    <tr>\n",
       "      <th>11600.0</th>\n",
       "      <td>1</td>\n",
       "    </tr>\n",
       "    <tr>\n",
       "      <th>12800.0</th>\n",
       "      <td>1</td>\n",
       "    </tr>\n",
       "    <tr>\n",
       "      <th>16900.0</th>\n",
       "      <td>1</td>\n",
       "    </tr>\n",
       "  </tbody>\n",
       "</table>\n",
       "<p>69 rows × 1 columns</p>\n",
       "</div>"
      ],
      "text/plain": [
       "col_0    no_of_times\n",
       "Posts               \n",
       "0.0               54\n",
       "1000.0             3\n",
       "1100.0             2\n",
       "1200.0             9\n",
       "1300.0             4\n",
       "...              ...\n",
       "10100.0            1\n",
       "10400.0            1\n",
       "11600.0            1\n",
       "12800.0            1\n",
       "16900.0            1\n",
       "\n",
       "[69 rows x 1 columns]"
      ]
     },
     "execution_count": 151,
     "metadata": {},
     "output_type": "execute_result"
    }
   ],
   "source": [
    "freq_table = pd.crosstab(data['Posts'], 'no_of_times') \n",
    "freq_table "
   ]
  },
  {
   "cell_type": "markdown",
   "id": "a863f0c5",
   "metadata": {},
   "source": [
    "## Find the country containing the maximum number of influencers"
   ]
  },
  {
   "cell_type": "markdown",
   "id": "3315b8e9",
   "metadata": {},
   "source": [
    "# 3. Which country houses the highest number of Instagram Influencers? "
   ]
  },
  {
   "cell_type": "code",
   "execution_count": 152,
   "id": "920ab1cb",
   "metadata": {},
   "outputs": [
    {
     "data": {
      "text/plain": [
       "93"
      ]
     },
     "execution_count": 152,
     "metadata": {},
     "output_type": "execute_result"
    }
   ],
   "source": [
    "data['Influence Score'].max()"
   ]
  },
  {
   "cell_type": "code",
   "execution_count": 153,
   "id": "48f55266",
   "metadata": {},
   "outputs": [
    {
     "name": "stdout",
     "output_type": "stream",
     "text": [
      "United States\n"
     ]
    }
   ],
   "source": [
    "i = data['Influence Score'].idxmax()\n",
    "print(data['Country Or Region'][i])"
   ]
  },
  {
   "cell_type": "code",
   "execution_count": 154,
   "id": "9be07d87",
   "metadata": {},
   "outputs": [],
   "source": [
    "df = data.groupby(['Country Or Region'])['Influence Score'].max()"
   ]
  },
  {
   "cell_type": "code",
   "execution_count": 155,
   "id": "d91e8e51",
   "metadata": {},
   "outputs": [
    {
     "data": {
      "text/plain": [
       "Country Or Region\n",
       "Anguilla                  83\n",
       "Australia                 86\n",
       "Brazil                    90\n",
       "British Virgin Islands    77\n",
       "Canada                    91\n",
       "Colombia                  86\n",
       "Czech Republic            47\n",
       "CÃ´te d'Ivoire            85\n",
       "France                    86\n",
       "Germany                   79\n",
       "India                     85\n",
       "Indonesia                 85\n",
       "Italy                     86\n",
       "Mexico                    78\n",
       "Netherlands               85\n",
       "Puerto Rico               80\n",
       "Russia                    63\n",
       "Spain                     92\n",
       "Sweden                    83\n",
       "Switzerland               85\n",
       "Turkey                    82\n",
       "United Arab Emirates      81\n",
       "United Kingdom            85\n",
       "United States             93\n",
       "Uruguay                   78\n",
       "Name: Influence Score, dtype: int64"
      ]
     },
     "execution_count": 155,
     "metadata": {},
     "output_type": "execute_result"
    }
   ],
   "source": [
    "df"
   ]
  },
  {
   "cell_type": "markdown",
   "id": "0ea6dd89",
   "metadata": {},
   "source": [
    "## 3. Please show the count of Instagram influencers in different countries using barchart."
   ]
  },
  {
   "cell_type": "code",
   "execution_count": 156,
   "id": "441a2d83",
   "metadata": {},
   "outputs": [
    {
     "data": {
      "text/plain": [
       "<Axes: xlabel='Country Or Region'>"
      ]
     },
     "execution_count": 156,
     "metadata": {},
     "output_type": "execute_result"
    },
    {
     "data": {
      "image/png": "[encoded data removed]",
      "text/plain": [
       "<Figure size 640x480 with 1 Axes>"
      ]
     },
     "metadata": {},
     "output_type": "display_data"
    }
   ],
   "source": [
    "\n",
    "\n",
    "# importing matplotlib \n",
    "import matplotlib.pyplot \n",
    "\n",
    "df.plot.bar() "
   ]
  },
  {
   "cell_type": "markdown",
   "id": "61a5376e",
   "metadata": {},
   "source": [
    "## Who are the top 10 influencers in the given dataset based on the following features\n",
    "# ● Followers\n",
    "# ● Average likes\n",
    "# ● Total Likes\n"
   ]
  },
  {
   "cell_type": "markdown",
   "id": "1eff8fd0",
   "metadata": {},
   "source": [
    "# df1 = data.groupby(['Followers'])['Influence Score'].max()\n",
    "\n",
    "# df1 = data.groupby(['Followers']).head(10)\n",
    "# print(df1.shape)\n",
    "# print(df1)\n",
    "# print(df1['Channel Info'], df1['Influence Score'])\n",
    "\n",
    "# df1 = data.groupby('Followers')['Influence Score'].nlargest(10)\n",
    "# df1\n",
    "# print(df1)"
   ]
  },
  {
   "cell_type": "markdown",
   "id": "a391e492",
   "metadata": {},
   "source": [
    "# top 10 influencers in the given dataset based the features ● Followers¶\n"
   ]
  },
  {
   "cell_type": "code",
   "execution_count": 157,
   "id": "42b4d00d",
   "metadata": {},
   "outputs": [
    {
     "name": "stdout",
     "output_type": "stream",
     "text": [
      "        Channel Info  Influence Score\n",
      "0        \\ncristiano               92\n",
      "1        kyliejenner               91\n",
      "2         \\nleomessi               90\n",
      "3      \\nselenagomez               93\n",
      "4          \\ntherock               91\n",
      "5     \\narianagrande               92\n",
      "6    \\nkimkardashian               91\n",
      "7          \\nbeyonce               92\n",
      "8  \\nkhloekardashian               89\n",
      "9     \\njustinbieber               91\n"
     ]
    }
   ],
   "source": [
    "df1 = data.nlargest(10, 'Followers')\n",
    "## print(df1['Channel Info'], df1 ['Influence Score'])\n",
    "print(df1[['Channel Info', 'Influence Score']] )"
   ]
  },
  {
   "cell_type": "markdown",
   "id": "58d42887",
   "metadata": {},
   "source": [
    "# top 10 influencers in the given dataset based the features ● Average likes"
   ]
  },
  {
   "cell_type": "code",
   "execution_count": 158,
   "id": "039e9eae",
   "metadata": {},
   "outputs": [
    {
     "name": "stdout",
     "output_type": "stream",
     "text": [
      "       Channel Info  Influence Score\n",
      "96            \\nthv               83\n",
      "131           \\nj.m               83\n",
      "165         \\nrkive               83\n",
      "0       \\ncristiano               92\n",
      "32   \\nbillieeilish               73\n",
      "1       kyliejenner               91\n",
      "2        \\nleomessi               90\n",
      "3     \\nselenagomez               93\n",
      "38   \\nlalalalisa_m               70\n",
      "22        \\nzendaya               87\n"
     ]
    }
   ],
   "source": [
    "df1 = data.nlargest(10, 'Avg. Likes')\n",
    "## print(df1['Channel Info'], df1 ['Influence Score'])\n",
    "print(df1[['Channel Info', 'Influence Score']] )"
   ]
  },
  {
   "cell_type": "markdown",
   "id": "1d1f0a27",
   "metadata": {},
   "source": [
    "# top 10 influencers in the given dataset based the features ● Total Likes"
   ]
  },
  {
   "cell_type": "code",
   "execution_count": 159,
   "id": "b140a0d0",
   "metadata": {},
   "outputs": [
    {
     "name": "stdout",
     "output_type": "stream",
     "text": [
      "       Channel Info  Influence Score\n",
      "1       kyliejenner               91\n",
      "0       \\ncristiano               92\n",
      "22        \\nzendaya               87\n",
      "6   \\nkimkardashian               91\n",
      "5    \\narianagrande               92\n",
      "25     \\nbadgalriri               88\n",
      "19       \\nneymarjr               90\n",
      "9    \\njustinbieber               91\n",
      "16     \\nnickiminaj               90\n",
      "4         \\ntherock               91\n"
     ]
    }
   ],
   "source": [
    "df1 = data.nlargest(10, 'Total Likes')\n",
    "## print(df1['Channel Info'], df1 ['Influence Score'])\n",
    "print(df1[['Channel Info', 'Influence Score']] )"
   ]
  },
  {
   "cell_type": "code",
   "execution_count": null,
   "id": "01087dd5",
   "metadata": {},
   "outputs": [],
   "source": []
  },
  {
   "cell_type": "code",
   "execution_count": null,
   "id": "01d91dd2",
   "metadata": {},
   "outputs": [],
   "source": []
  }
 ],
 "metadata": {
  "kernelspec": {
   "display_name": "Python 3 (ipykernel)",
   "language": "python",
   "name": "python3"
  },
  "language_info": {
   "codemirror_mode": {
    "name": "ipython",
    "version": 3
   },
   "file_extension": ".py",
   "mimetype": "text/x-python",
   "name": "python",
   "nbconvert_exporter": "python",
   "pygments_lexer": "ipython3",
   "version": "3.8.10"
  }
 },
 "nbformat": 4,
 "nbformat_minor": 5
}
