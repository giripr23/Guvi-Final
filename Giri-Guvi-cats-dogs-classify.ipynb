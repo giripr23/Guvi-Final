{
 "cells": [
  {
   "cell_type": "code",
   "execution_count": 33,
   "id": "ed72375a",
   "metadata": {},
   "outputs": [],
   "source": [
    "import os\n",
    "import  imageio\n",
    "import pandas as pd\n",
    "\n",
    "basedir =   \"dog-and-cats-images/train/\"\n",
    "catimages = os.listdir(basedir + \"cats\")\n",
    "dogimages = os.listdir(basedir + \"dogs\")"
   ]
  },
  {
   "cell_type": "code",
   "execution_count": 34,
   "id": "cd3ec379",
   "metadata": {},
   "outputs": [
    {
     "name": "stdout",
     "output_type": "stream",
     "text": [
      "['cat_103.jpg', 'cat_445.jpg', 'cat_164.jpg', 'cat_224.jpg', 'cat_59.jpg', 'cat_276.jpg', 'cat_497.jpg', 'cat_363.jpg', 'cat_153.jpg', 'cat_336.jpg', 'cat_589.jpg', 'cat_34.jpg', 'cat_120.jpg', 'cat_505.jpg', 'cat_132.jpg', 'cat_362.jpg', 'cat_423.jpg', 'cat_10.jpg', 'cat_532.jpg', 'cat_200.jpg', 'cat_257.jpg', 'cat_172.jpg', 'cat_263.jpg', 'cat_12.jpg', 'cat_177.jpg', 'cat_75.jpg', 'cat_201.jpg', 'cat_487.jpg', 'cat_133.jpg', 'cat_506.jpg', 'cat_393.jpg', 'cat_195.jpg', 'cat_39.jpg', 'cat_24.jpg', 'cat_214.jpg', 'cat_134.jpg', 'cat_260.jpg', 'cat_388.jpg', 'cat_209.jpg', 'cat_165.jpg', 'cat_84.jpg', 'cat_604.jpg', 'cat_536.jpg', 'cat_311.jpg', 'cat_246.jpg', 'cat_434.jpg', 'cat_183.jpg', 'cat_15.jpg', 'cat_376.jpg', 'cat_531.jpg', 'cat_548.jpg', 'cat_567.jpg', 'cat_194.jpg', 'cat_400.jpg', 'cat_463.jpg', 'cat_13.jpg', 'cat_438.jpg', 'cat_64.jpg', 'cat_397.jpg', 'cat_429.jpg', 'cat_219.jpg', 'cat_3.jpg', 'cat_483.jpg', 'cat_396.jpg', 'cat_95.jpg', 'cat_270.jpg', 'cat_535.jpg', 'cat_402.jpg', 'cat_27.jpg', 'cat_285.jpg', 'cat_367.jpg', 'cat_220.jpg', 'cat_180.jpg', 'cat_11.jpg', 'cat_391.jpg', 'cat_93.jpg', 'cat_381.jpg', 'cat_372.jpg', 'cat_361.jpg', 'cat_318.jpg', 'cat_494.jpg', 'cat_416.jpg', 'cat_138.jpg', 'cat_232.jpg', 'cat_26.jpg', 'cat_592.jpg', 'cat_333.jpg', 'cat_4.jpg', 'cat_369.jpg', 'cat_269.jpg', 'cat_208.jpg', 'cat_50.jpg', 'cat_261.jpg', 'cat_419.jpg', 'cat_602.jpg', 'cat_21.jpg', 'cat_546.jpg', 'cat_348.jpg', 'cat_243.jpg', 'cat_580.jpg', 'cat_98.jpg', 'cat_601.jpg', 'cat_179.jpg', 'cat_489.jpg', 'cat_161.jpg', 'cat_316.jpg', 'cat_317.jpg', 'cat_169.jpg', 'cat_557.jpg', 'cat_387.jpg', 'cat_100.jpg', 'cat_443.jpg', 'cat_304.jpg', 'cat_499.jpg', 'cat_149.jpg', 'cat_498.jpg', 'cat_146.jpg', 'cat_222.jpg', 'cat_495.jpg', 'cat_327.jpg', 'cat_549.jpg', 'cat_407.jpg', 'cat_465.jpg', 'cat_123.jpg', 'cat_77.jpg', 'cat_248.jpg', 'cat_370.jpg', 'cat_293.jpg', 'cat_474.jpg', 'cat_228.jpg', 'cat_139.jpg', 'cat_218.jpg', 'cat_345.jpg', 'cat_330.jpg', 'cat_540.jpg', 'cat_211.jpg', 'cat_569.jpg', 'cat_533.jpg', 'cat_386.jpg', 'cat_426.jpg', 'cat_66.jpg', 'cat_414.jpg', 'cat_42.jpg', 'cat_452.jpg', 'cat_229.jpg', 'cat_189.jpg', 'cat_408.jpg', 'cat_160.jpg', 'cat_350.jpg', 'cat_560.jpg', 'cat_97.jpg', 'cat_511.jpg', 'cat_544.jpg', 'cat_253.jpg', 'cat_78.jpg', 'cat_320.jpg', 'cat_46.jpg', 'cat_526.jpg', 'cat_405.jpg', 'cat_52.jpg', 'cat_159.jpg', 'cat_265.jpg', 'cat_80.jpg', 'cat_102.jpg', 'cat_111.jpg', 'cat_280.jpg', 'cat_508.jpg', 'cat_440.jpg', 'cat_151.jpg', 'cat_168.jpg', 'cat_221.jpg', 'cat_129.jpg', 'cat_493.jpg', 'cat_490.jpg', 'cat_467.jpg', 'cat_577.jpg', 'cat_141.jpg', 'cat_591.jpg', 'cat_152.jpg', 'cat_148.jpg', 'cat_453.jpg', 'cat_351.jpg', 'cat_104.jpg', 'cat_420.jpg', 'cat_58.jpg', 'cat_298.jpg', 'cat_455.jpg', 'cat_380.jpg', 'cat_329.jpg', 'cat_307.jpg', 'cat_33.jpg', 'cat_565.jpg', 'cat_184.jpg', 'cat_170.jpg', 'cat_202.jpg', 'cat_510.jpg', 'cat_427.jpg', 'cat_238.jpg', 'cat_385.jpg', 'cat_321.jpg', 'cat_273.jpg', 'cat_137.jpg', 'cat_325.jpg', 'cat_6.jpg', 'cat_227.jpg', 'cat_519.jpg', 'cat_215.jpg', 'cat_377.jpg', 'cat_9.jpg', 'cat_573.jpg', 'cat_292.jpg', 'cat_87.jpg', 'cat_518.jpg', 'cat_240.jpg', 'cat_69.jpg', 'cat_547.jpg', 'cat_14.jpg', 'cat_101.jpg', 'cat_558.jpg', 'cat_289.jpg', 'cat_343.jpg', 'cat_54.jpg', 'cat_590.jpg', 'cat_500.jpg', 'cat_271.jpg', 'cat_2.jpg', 'cat_428.jpg', 'cat_67.jpg', 'cat_235.jpg', 'cat_61.jpg', 'cat_217.jpg', 'cat_403.jpg', 'cat_38.jpg', 'cat_230.jpg', 'cat_556.jpg', 'cat_35.jpg', 'cat_43.jpg', 'cat_413.jpg', 'cat_310.jpg', 'cat_466.jpg', 'cat_492.jpg', 'cat_274.jpg', 'cat_543.jpg', 'cat_373.jpg', 'cat_570.jpg', 'cat_456.jpg', 'cat_37.jpg', 'cat_49.jpg', 'cat_207.jpg', 'cat_275.jpg', 'cat_225.jpg', 'cat_559.jpg', 'cat_198.jpg', 'cat_213.jpg', 'cat_344.jpg', 'cat_74.jpg', 'cat_581.jpg', 'cat_469.jpg', 'cat_605.jpg', 'cat_435.jpg', 'cat_485.jpg', 'cat_70.jpg', 'cat_284.jpg', 'cat_553.jpg', 'cat_331.jpg', 'cat_297.jpg', 'cat_163.jpg', 'cat_524.jpg', 'cat_450.jpg', 'cat_247.jpg', 'cat_461.jpg', 'cat_399.jpg', 'cat_303.jpg', 'cat_16.jpg', 'cat_191.jpg', 'cat_53.jpg', 'cat_482.jpg', 'cat_359.jpg', 'cat_352.jpg']\n"
     ]
    }
   ],
   "source": [
    "print(catimages)"
   ]
  },
  {
   "cell_type": "code",
   "execution_count": 35,
   "id": "dd1111b0",
   "metadata": {},
   "outputs": [
    {
     "name": "stdout",
     "output_type": "stream",
     "text": [
      "['dog_479.jpg', 'dog_287.jpg', 'dog_231.jpg', 'dog_509.jpg', 'dog_277.jpg', 'dog_33.jpg', 'dog_320.jpg', 'dog_32.jpg', 'dog_401.jpg', 'dog_342.jpg', 'dog_451.jpg', 'dog_324.jpg', 'dog_448.jpg', 'dog_381.jpg', 'dog_392.jpg', 'dog_195.jpg', 'dog_474.jpg', 'dog_505.jpg', 'dog_338.jpg', 'dog_251.jpg', 'dog_270.jpg', 'dog_77.jpg', 'dog_393.jpg', 'dog_294.jpg', 'dog_256.jpg', 'dog_162.jpg', 'dog_106.jpg', 'dog_532.jpg', 'dog_378.jpg', 'dog_576.jpg', 'dog_291.jpg', 'dog_139.jpg', 'dog_192.jpg', 'dog_97.jpg', 'dog_475.jpg', 'dog_513.jpg', 'dog_203.jpg', 'dog_221.jpg', 'dog_193.jpg', 'dog_11.jpg', 'dog_128.jpg', 'dog_290.jpg', 'dog_446.jpg', 'dog_391.jpg', 'dog_151.jpg', 'dog_226.jpg', 'dog_560.jpg', 'dog_212.jpg', 'dog_51.jpg', 'dog_152.jpg', 'dog_56.jpg', 'dog_444.jpg', 'dog_268.jpg', 'dog_204.jpg', 'dog_332.jpg', 'dog_412.jpg', 'dog_407.jpg', 'dog_432.jpg', 'dog_69.jpg', 'dog_259.jpg', 'dog_468.jpg', 'dog_47.jpg', 'dog_206.jpg', 'dog_458.jpg', 'dog_45.jpg', 'dog_29.jpg', 'dog_136.jpg', 'dog_199.jpg', 'dog_241.jpg', 'dog_404.jpg', 'dog_351.jpg', 'dog_234.jpg', 'dog_501.jpg', 'dog_110.jpg', 'dog_371.jpg', 'dog_322.jpg', 'dog_502.jpg', 'dog_335.jpg', 'dog_62.jpg', 'dog_54.jpg', 'dog_109.jpg', 'dog_3.jpg', 'dog_249.jpg', 'dog_447.jpg', 'dog_402.jpg', 'dog_333.jpg', 'dog_543.jpg', 'dog_217.jpg', 'dog_496.jpg', 'dog_559.jpg', 'dog_178.jpg', 'dog_570.jpg', 'dog_67.jpg', 'dog_99.jpg', 'dog_553.jpg', 'dog_238.jpg', 'dog_84.jpg', 'dog_292.jpg', 'dog_301.jpg', 'dog_9.jpg', 'dog_375.jpg', 'dog_492.jpg', 'dog_100.jpg', 'dog_72.jpg', 'dog_122.jpg', 'dog_418.jpg', 'dog_525.jpg', 'dog_341.jpg', 'dog_438.jpg', 'dog_478.jpg', 'dog_323.jpg', 'dog_8.jpg', 'dog_554.jpg', 'dog_485.jpg', 'dog_546.jpg', 'dog_207.jpg', 'dog_347.jpg', 'dog_120.jpg', 'dog_232.jpg', 'dog_267.jpg', 'dog_405.jpg', 'dog_7.jpg', 'dog_243.jpg', 'dog_31.jpg', 'dog_214.jpg', 'dog_580.jpg', 'dog_504.jpg', 'dog_487.jpg', 'dog_318.jpg', 'dog_408.jpg', 'dog_450.jpg', 'dog_26.jpg', 'dog_50.jpg', 'dog_483.jpg', 'dog_78.jpg', 'dog_376.jpg', 'dog_417.jpg', 'dog_583.jpg', 'dog_296.jpg', 'dog_529.jpg', 'dog_200.jpg', 'dog_484.jpg', 'dog_331.jpg', 'dog_293.jpg', 'dog_57.jpg', 'dog_556.jpg', 'dog_414.jpg', 'dog_154.jpg', 'dog_579.jpg', 'dog_572.jpg', 'dog_433.jpg', 'dog_359.jpg', 'dog_566.jpg', 'dog_239.jpg', 'dog_321.jpg', 'dog_113.jpg', 'dog_247.jpg', 'dog_138.jpg', 'dog_175.jpg', 'dog_591.jpg', 'dog_445.jpg', 'dog_367.jpg', 'dog_358.jpg', 'dog_209.jpg', 'dog_317.jpg', 'dog_596.jpg', 'dog_552.jpg', 'dog_409.jpg', 'dog_30.jpg', 'dog_220.jpg', 'dog_92.jpg', 'dog_564.jpg', 'dog_315.jpg', 'dog_571.jpg', 'dog_306.jpg', 'dog_512.jpg', 'dog_365.jpg', 'dog_93.jpg', 'dog_0.jpg', 'dog_514.jpg', 'dog_545.jpg', 'dog_549.jpg', 'dog_70.jpg', 'dog_167.jpg', 'dog_37.jpg', 'dog_540.jpg', 'dog_441.jpg', 'dog_550.jpg', 'dog_436.jpg', 'dog_90.jpg', 'dog_262.jpg', 'dog_116.jpg', 'dog_186.jpg', 'dog_230.jpg', 'dog_165.jpg', 'dog_15.jpg', 'dog_202.jpg', 'dog_216.jpg', 'dog_205.jpg', 'dog_80.jpg', 'dog_473.jpg', 'dog_86.jpg', 'dog_589.jpg', 'dog_281.jpg', 'dog_74.jpg', 'dog_349.jpg', 'dog_23.jpg', 'dog_419.jpg', 'dog_98.jpg', 'dog_125.jpg', 'dog_471.jpg', 'dog_295.jpg', 'dog_253.jpg', 'dog_144.jpg', 'dog_403.jpg', 'dog_21.jpg', 'dog_286.jpg', 'dog_35.jpg', 'dog_325.jpg', 'dog_350.jpg', 'dog_224.jpg', 'dog_558.jpg', 'dog_490.jpg', 'dog_82.jpg', 'dog_164.jpg', 'dog_427.jpg', 'dog_343.jpg', 'dog_85.jpg', 'dog_4.jpg', 'dog_428.jpg', 'dog_76.jpg', 'dog_305.jpg', 'dog_272.jpg', 'dog_480.jpg', 'dog_582.jpg', 'dog_541.jpg', 'dog_429.jpg', 'dog_140.jpg', 'dog_13.jpg', 'dog_361.jpg', 'dog_129.jpg', 'dog_533.jpg', 'dog_440.jpg', 'dog_182.jpg', 'dog_494.jpg', 'dog_133.jpg', 'dog_334.jpg', 'dog_466.jpg', 'dog_266.jpg', 'dog_39.jpg', 'dog_188.jpg', 'dog_269.jpg', 'dog_218.jpg', 'dog_389.jpg', 'dog_368.jpg', 'dog_437.jpg', 'dog_273.jpg', 'dog_10.jpg', 'dog_299.jpg', 'dog_489.jpg', 'dog_363.jpg', 'dog_102.jpg', 'dog_523.jpg', 'dog_171.jpg', 'dog_261.jpg', 'dog_535.jpg', 'dog_435.jpg', 'dog_103.jpg', 'dog_423.jpg', 'dog_298.jpg', 'dog_452.jpg', 'dog_260.jpg', 'dog_337.jpg', 'dog_156.jpg', 'dog_22.jpg', 'dog_145.jpg', 'dog_345.jpg', 'dog_208.jpg']\n"
     ]
    }
   ],
   "source": [
    "print(dogimages)"
   ]
  },
  {
   "cell_type": "code",
   "execution_count": 36,
   "id": "2f5b9b8b",
   "metadata": {},
   "outputs": [],
   "source": [
    "catVec = []\n",
    "dogVec = []\n",
    "catdir = basedir + \"cats\"\n",
    "dogdir = basedir + \"dogs\""
   ]
  },
  {
   "cell_type": "code",
   "execution_count": 37,
   "id": "3a5f000e",
   "metadata": {},
   "outputs": [
    {
     "name": "stdout",
     "output_type": "stream",
     "text": [
      "Processing file : dog-and-cats-images/train/cats/cat_103.jpg\n",
      "Processing file : dog-and-cats-images/train/cats/cat_445.jpg\n",
      "Processing file : dog-and-cats-images/train/cats/cat_164.jpg\n",
      "Processing file : dog-and-cats-images/train/cats/cat_224.jpg\n",
      "Processing file : dog-and-cats-images/train/cats/cat_59.jpg\n"
     ]
    },
    {
     "name": "stderr",
     "output_type": "stream",
     "text": [
      "/tmp/ipykernel_11869/1354220807.py:6: DeprecationWarning: Starting with ImageIO v3 the behavior of this function will switch to that of iio.v3.imread. To keep the current behavior (and make this warning disappear) use `import imageio.v2 as imageio` or call `imageio.v2.imread` directly.\n",
      "  img = imageio.imread(f\"{catdir}/{img}\")\n"
     ]
    }
   ],
   "source": [
    "cnt = 1   ## Testing Code\n",
    "for img in catimages:\n",
    "    ## img = imageio.imread(f\"cat_/{img}\")\n",
    "    current_file = catdir + \"/\" + img\n",
    "    print(\"Processing file : \" + current_file )\n",
    "    img = imageio.imread(f\"{catdir}/{img}\")\n",
    "    ar = img.flatten()\n",
    "    catVec.append(ar) \n",
    "    cnt = cnt + 1\n",
    "    if cnt > 5:  ## Testing Code\n",
    "        break    ## Testing Code\n",
    "\n",
    "\n",
    "catdf = pd.DataFrame(catVec)    \n",
    "catdf.insert(loc=0,column =\"label\",value=1)"
   ]
  },
  {
   "cell_type": "code",
   "execution_count": 38,
   "id": "8c963020",
   "metadata": {},
   "outputs": [
    {
     "name": "stdout",
     "output_type": "stream",
     "text": [
      "   label    0    1    2    3    4    5    6    7    8  ...  2457590  2457591   \n",
      "0      1   93   87   65   89   83   61   81   75   53  ...      NaN      NaN  \\\n",
      "1      1  222  216  218  222  216  218  222  216  218  ...      NaN      NaN   \n",
      "2      1   36   67   36   36   67   36   36   67   36  ...      NaN      NaN   \n",
      "3      1    0    0    0    0    0    0    0    0    0  ...      NaN      NaN   \n",
      "4      1  152  171  143  152  171  143  152  171  143  ...     39.0    203.0   \n",
      "\n",
      "   2457592  2457593  2457594  2457595  2457596  2457597  2457598  2457599  \n",
      "0      NaN      NaN      NaN      NaN      NaN      NaN      NaN      NaN  \n",
      "1      NaN      NaN      NaN      NaN      NaN      NaN      NaN      NaN  \n",
      "2      NaN      NaN      NaN      NaN      NaN      NaN      NaN      NaN  \n",
      "3      NaN      NaN      NaN      NaN      NaN      NaN      NaN      NaN  \n",
      "4    201.0     39.0    203.0    201.0     39.0    203.0    201.0     39.0  \n",
      "\n",
      "[5 rows x 2457601 columns]\n"
     ]
    }
   ],
   "source": [
    "print(catdf.head(5))"
   ]
  },
  {
   "cell_type": "code",
   "execution_count": 39,
   "id": "fc137661",
   "metadata": {},
   "outputs": [
    {
     "name": "stdout",
     "output_type": "stream",
     "text": [
      "Processing file : dog-and-cats-images/train/dogs/dog_479.jpg\n",
      "Processing file : dog-and-cats-images/train/dogs/dog_287.jpg\n",
      "Processing file : dog-and-cats-images/train/dogs/dog_231.jpg\n",
      "Processing file : dog-and-cats-images/train/dogs/dog_509.jpg\n",
      "Processing file : dog-and-cats-images/train/dogs/dog_277.jpg\n"
     ]
    },
    {
     "name": "stderr",
     "output_type": "stream",
     "text": [
      "/tmp/ipykernel_11869/2184810192.py:5: DeprecationWarning: Starting with ImageIO v3 the behavior of this function will switch to that of iio.v3.imread. To keep the current behavior (and make this warning disappear) use `import imageio.v2 as imageio` or call `imageio.v2.imread` directly.\n",
      "  img = imageio.imread(f\"{dogdir}/{img}\")\n"
     ]
    }
   ],
   "source": [
    "cnt = 1   ## Testing Code\n",
    "for img in dogimages:\n",
    "       current_file = dogdir + \"/\" + img\n",
    "       print(\"Processing file : \" + current_file )\n",
    "       img = imageio.imread(f\"{dogdir}/{img}\")\n",
    "       ar = img.flatten()\n",
    "       dogVec.append(ar)   \n",
    "       cnt = cnt + 1\n",
    "       if cnt > 5:  ## Testing Code\n",
    "           break    ## Testing Code\n",
    "       \n",
    "dogdf = pd.DataFrame(dogVec)    \n",
    "dogdf.insert(loc=0,column =\"label\",value=0)\n"
   ]
  },
  {
   "cell_type": "code",
   "execution_count": 40,
   "id": "905c20ed",
   "metadata": {},
   "outputs": [
    {
     "name": "stdout",
     "output_type": "stream",
     "text": [
      "   label    0    1    2    3    4    5    6    7    8  ...  4319990  4319991   \n",
      "0      0  239  237  216  239  237  216  239  237  216  ...      NaN      NaN  \\\n",
      "1      0  252  251  247  252  251  247  252  251  247  ...      NaN      NaN   \n",
      "2      0   37   53    8   37   53    8   37   53    8  ...      NaN      NaN   \n",
      "3      0  238  241  246  238  241  246  238  241  246  ...      NaN      NaN   \n",
      "4      0    4   20    0    0   23    0   20   53    0  ...    211.0    158.0   \n",
      "\n",
      "   4319992  4319993  4319994  4319995  4319996  4319997  4319998  4319999  \n",
      "0      NaN      NaN      NaN      NaN      NaN      NaN      NaN      NaN  \n",
      "1      NaN      NaN      NaN      NaN      NaN      NaN      NaN      NaN  \n",
      "2      NaN      NaN      NaN      NaN      NaN      NaN      NaN      NaN  \n",
      "3      NaN      NaN      NaN      NaN      NaN      NaN      NaN      NaN  \n",
      "4    188.0    212.0    158.0    188.0    212.0    159.0    189.0    213.0  \n",
      "\n",
      "[5 rows x 4320001 columns]\n"
     ]
    }
   ],
   "source": [
    "print(dogdf.head(5))"
   ]
  },
  {
   "cell_type": "code",
   "execution_count": 41,
   "id": "8d56b288",
   "metadata": {},
   "outputs": [],
   "source": [
    "data = pd.concat([catdf,dogdf])      \n",
    "data = data.sample(frac=1)\n",
    "## now we have dataset with label for each of our images."
   ]
  },
  {
   "cell_type": "code",
   "execution_count": 42,
   "id": "cdcd6ac2",
   "metadata": {},
   "outputs": [
    {
     "data": {
      "text/html": [
       "<div>\n",
       "<style scoped>\n",
       "    .dataframe tbody tr th:only-of-type {\n",
       "        vertical-align: middle;\n",
       "    }\n",
       "\n",
       "    .dataframe tbody tr th {\n",
       "        vertical-align: top;\n",
       "    }\n",
       "\n",
       "    .dataframe thead th {\n",
       "        text-align: right;\n",
       "    }\n",
       "</style>\n",
       "<table border=\"1\" class=\"dataframe\">\n",
       "  <thead>\n",
       "    <tr style=\"text-align: right;\">\n",
       "      <th></th>\n",
       "      <th>label</th>\n",
       "      <th>0</th>\n",
       "      <th>1</th>\n",
       "      <th>2</th>\n",
       "      <th>3</th>\n",
       "      <th>4</th>\n",
       "      <th>5</th>\n",
       "      <th>6</th>\n",
       "      <th>7</th>\n",
       "      <th>8</th>\n",
       "      <th>...</th>\n",
       "      <th>4319990</th>\n",
       "      <th>4319991</th>\n",
       "      <th>4319992</th>\n",
       "      <th>4319993</th>\n",
       "      <th>4319994</th>\n",
       "      <th>4319995</th>\n",
       "      <th>4319996</th>\n",
       "      <th>4319997</th>\n",
       "      <th>4319998</th>\n",
       "      <th>4319999</th>\n",
       "    </tr>\n",
       "  </thead>\n",
       "  <tbody>\n",
       "    <tr>\n",
       "      <th>4</th>\n",
       "      <td>0</td>\n",
       "      <td>4</td>\n",
       "      <td>20</td>\n",
       "      <td>0</td>\n",
       "      <td>0</td>\n",
       "      <td>23</td>\n",
       "      <td>0</td>\n",
       "      <td>20</td>\n",
       "      <td>53</td>\n",
       "      <td>0</td>\n",
       "      <td>...</td>\n",
       "      <td>211.0</td>\n",
       "      <td>158.0</td>\n",
       "      <td>188.0</td>\n",
       "      <td>212.0</td>\n",
       "      <td>158.0</td>\n",
       "      <td>188.0</td>\n",
       "      <td>212.0</td>\n",
       "      <td>159.0</td>\n",
       "      <td>189.0</td>\n",
       "      <td>213.0</td>\n",
       "    </tr>\n",
       "    <tr>\n",
       "      <th>2</th>\n",
       "      <td>0</td>\n",
       "      <td>37</td>\n",
       "      <td>53</td>\n",
       "      <td>8</td>\n",
       "      <td>37</td>\n",
       "      <td>53</td>\n",
       "      <td>8</td>\n",
       "      <td>37</td>\n",
       "      <td>53</td>\n",
       "      <td>8</td>\n",
       "      <td>...</td>\n",
       "      <td>NaN</td>\n",
       "      <td>NaN</td>\n",
       "      <td>NaN</td>\n",
       "      <td>NaN</td>\n",
       "      <td>NaN</td>\n",
       "      <td>NaN</td>\n",
       "      <td>NaN</td>\n",
       "      <td>NaN</td>\n",
       "      <td>NaN</td>\n",
       "      <td>NaN</td>\n",
       "    </tr>\n",
       "    <tr>\n",
       "      <th>3</th>\n",
       "      <td>1</td>\n",
       "      <td>0</td>\n",
       "      <td>0</td>\n",
       "      <td>0</td>\n",
       "      <td>0</td>\n",
       "      <td>0</td>\n",
       "      <td>0</td>\n",
       "      <td>0</td>\n",
       "      <td>0</td>\n",
       "      <td>0</td>\n",
       "      <td>...</td>\n",
       "      <td>NaN</td>\n",
       "      <td>NaN</td>\n",
       "      <td>NaN</td>\n",
       "      <td>NaN</td>\n",
       "      <td>NaN</td>\n",
       "      <td>NaN</td>\n",
       "      <td>NaN</td>\n",
       "      <td>NaN</td>\n",
       "      <td>NaN</td>\n",
       "      <td>NaN</td>\n",
       "    </tr>\n",
       "    <tr>\n",
       "      <th>3</th>\n",
       "      <td>0</td>\n",
       "      <td>238</td>\n",
       "      <td>241</td>\n",
       "      <td>246</td>\n",
       "      <td>238</td>\n",
       "      <td>241</td>\n",
       "      <td>246</td>\n",
       "      <td>238</td>\n",
       "      <td>241</td>\n",
       "      <td>246</td>\n",
       "      <td>...</td>\n",
       "      <td>NaN</td>\n",
       "      <td>NaN</td>\n",
       "      <td>NaN</td>\n",
       "      <td>NaN</td>\n",
       "      <td>NaN</td>\n",
       "      <td>NaN</td>\n",
       "      <td>NaN</td>\n",
       "      <td>NaN</td>\n",
       "      <td>NaN</td>\n",
       "      <td>NaN</td>\n",
       "    </tr>\n",
       "    <tr>\n",
       "      <th>1</th>\n",
       "      <td>1</td>\n",
       "      <td>222</td>\n",
       "      <td>216</td>\n",
       "      <td>218</td>\n",
       "      <td>222</td>\n",
       "      <td>216</td>\n",
       "      <td>218</td>\n",
       "      <td>222</td>\n",
       "      <td>216</td>\n",
       "      <td>218</td>\n",
       "      <td>...</td>\n",
       "      <td>NaN</td>\n",
       "      <td>NaN</td>\n",
       "      <td>NaN</td>\n",
       "      <td>NaN</td>\n",
       "      <td>NaN</td>\n",
       "      <td>NaN</td>\n",
       "      <td>NaN</td>\n",
       "      <td>NaN</td>\n",
       "      <td>NaN</td>\n",
       "      <td>NaN</td>\n",
       "    </tr>\n",
       "  </tbody>\n",
       "</table>\n",
       "<p>5 rows × 4320001 columns</p>\n",
       "</div>"
      ],
      "text/plain": [
       "   label    0    1    2    3    4    5    6    7    8  ...  4319990  4319991   \n",
       "4      0    4   20    0    0   23    0   20   53    0  ...    211.0    158.0  \\\n",
       "2      0   37   53    8   37   53    8   37   53    8  ...      NaN      NaN   \n",
       "3      1    0    0    0    0    0    0    0    0    0  ...      NaN      NaN   \n",
       "3      0  238  241  246  238  241  246  238  241  246  ...      NaN      NaN   \n",
       "1      1  222  216  218  222  216  218  222  216  218  ...      NaN      NaN   \n",
       "\n",
       "   4319992  4319993  4319994  4319995  4319996  4319997  4319998  4319999  \n",
       "4    188.0    212.0    158.0    188.0    212.0    159.0    189.0    213.0  \n",
       "2      NaN      NaN      NaN      NaN      NaN      NaN      NaN      NaN  \n",
       "3      NaN      NaN      NaN      NaN      NaN      NaN      NaN      NaN  \n",
       "3      NaN      NaN      NaN      NaN      NaN      NaN      NaN      NaN  \n",
       "1      NaN      NaN      NaN      NaN      NaN      NaN      NaN      NaN  \n",
       "\n",
       "[5 rows x 4320001 columns]"
      ]
     },
     "execution_count": 42,
     "metadata": {},
     "output_type": "execute_result"
    }
   ],
   "source": [
    "data.head()"
   ]
  },
  {
   "cell_type": "code",
   "execution_count": 44,
   "id": "56a6b15e",
   "metadata": {},
   "outputs": [
    {
     "data": {
      "text/plain": [
       "<bound method DataFrame.info of    label    0    1    2    3    4    5    6    7    8  ...  4319990  4319991   \n",
       "4      0    4   20    0    0   23    0   20   53    0  ...    211.0    158.0  \\\n",
       "2      0   37   53    8   37   53    8   37   53    8  ...      NaN      NaN   \n",
       "3      1    0    0    0    0    0    0    0    0    0  ...      NaN      NaN   \n",
       "3      0  238  241  246  238  241  246  238  241  246  ...      NaN      NaN   \n",
       "1      1  222  216  218  222  216  218  222  216  218  ...      NaN      NaN   \n",
       "4      1  152  171  143  152  171  143  152  171  143  ...      NaN      NaN   \n",
       "0      1   93   87   65   89   83   61   81   75   53  ...      NaN      NaN   \n",
       "2      1   36   67   36   36   67   36   36   67   36  ...      NaN      NaN   \n",
       "1      0  252  251  247  252  251  247  252  251  247  ...      NaN      NaN   \n",
       "0      0  239  237  216  239  237  216  239  237  216  ...      NaN      NaN   \n",
       "\n",
       "   4319992  4319993  4319994  4319995  4319996  4319997  4319998  4319999  \n",
       "4    188.0    212.0    158.0    188.0    212.0    159.0    189.0    213.0  \n",
       "2      NaN      NaN      NaN      NaN      NaN      NaN      NaN      NaN  \n",
       "3      NaN      NaN      NaN      NaN      NaN      NaN      NaN      NaN  \n",
       "3      NaN      NaN      NaN      NaN      NaN      NaN      NaN      NaN  \n",
       "1      NaN      NaN      NaN      NaN      NaN      NaN      NaN      NaN  \n",
       "4      NaN      NaN      NaN      NaN      NaN      NaN      NaN      NaN  \n",
       "0      NaN      NaN      NaN      NaN      NaN      NaN      NaN      NaN  \n",
       "2      NaN      NaN      NaN      NaN      NaN      NaN      NaN      NaN  \n",
       "1      NaN      NaN      NaN      NaN      NaN      NaN      NaN      NaN  \n",
       "0      NaN      NaN      NaN      NaN      NaN      NaN      NaN      NaN  \n",
       "\n",
       "[10 rows x 4320001 columns]>"
      ]
     },
     "execution_count": 44,
     "metadata": {},
     "output_type": "execute_result"
    }
   ],
   "source": [
    "data.info"
   ]
  },
  {
   "cell_type": "code",
   "execution_count": 52,
   "id": "992e76d3",
   "metadata": {},
   "outputs": [],
   "source": [
    "from sklearn.model_selection import train_test_split\n",
    "from sklearn.neighbors import KNeighborsClassifier\n",
    "\n",
    "## X=data.iloc[:,1] ## all rows, from column1 to last Column\n",
    "## Y=data['label']\n",
    "\n",
    "X=data.iloc[:,1].values ## all rows, from column1 to last Column\n",
    "Y=data['label'].values\n"
   ]
  },
  {
   "cell_type": "code",
   "execution_count": 53,
   "id": "99c4fdc7",
   "metadata": {},
   "outputs": [
    {
     "data": {
      "text/plain": [
       "array([  4,  37,   0, 238, 222, 152,  93,  36, 252, 239], dtype=uint8)"
      ]
     },
     "execution_count": 53,
     "metadata": {},
     "output_type": "execute_result"
    }
   ],
   "source": [
    "X"
   ]
  },
  {
   "cell_type": "code",
   "execution_count": 54,
   "id": "b7c57b33",
   "metadata": {},
   "outputs": [
    {
     "data": {
      "text/plain": [
       "array([0, 0, 1, 0, 1, 1, 1, 1, 0, 0])"
      ]
     },
     "execution_count": 54,
     "metadata": {},
     "output_type": "execute_result"
    }
   ],
   "source": [
    "Y"
   ]
  },
  {
   "cell_type": "code",
   "execution_count": 55,
   "id": "6cc3ffbc",
   "metadata": {},
   "outputs": [],
   "source": [
    "\n",
    "X=X.reshape(-1,1)\n"
   ]
  },
  {
   "cell_type": "code",
   "execution_count": 56,
   "id": "53e34371",
   "metadata": {},
   "outputs": [
    {
     "data": {
      "text/plain": [
       "array([[  4],\n",
       "       [ 37],\n",
       "       [  0],\n",
       "       [238],\n",
       "       [222],\n",
       "       [152],\n",
       "       [ 93],\n",
       "       [ 36],\n",
       "       [252],\n",
       "       [239]], dtype=uint8)"
      ]
     },
     "execution_count": 56,
     "metadata": {},
     "output_type": "execute_result"
    }
   ],
   "source": [
    "X"
   ]
  },
  {
   "cell_type": "code",
   "execution_count": 57,
   "id": "b48b4ad6",
   "metadata": {},
   "outputs": [
    {
     "data": {
      "text/plain": [
       "array([0, 0, 1, 0, 1, 1, 1, 1, 0, 0])"
      ]
     },
     "execution_count": 57,
     "metadata": {},
     "output_type": "execute_result"
    }
   ],
   "source": [
    "Y"
   ]
  },
  {
   "cell_type": "code",
   "execution_count": 58,
   "id": "c45594f1",
   "metadata": {},
   "outputs": [],
   "source": [
    "X_train, X_test, y_train, y_test = train_test_split(X, Y, test_size = 0.25)\n",
    "\n",
    "model = KNeighborsClassifier(n_neighbors=1)\n",
    "fit = model.fit(X_train, y_train)"
   ]
  },
  {
   "cell_type": "code",
   "execution_count": 59,
   "id": "7ee152d0",
   "metadata": {},
   "outputs": [],
   "source": [
    "## Just set the n_neighbors values\n",
    "## knn = KNeighborsClassifier(n_neighbors=1)"
   ]
  },
  {
   "cell_type": "code",
   "execution_count": 60,
   "id": "512ee76f",
   "metadata": {},
   "outputs": [
    {
     "name": "stdout",
     "output_type": "stream",
     "text": [
      "R2 score: 0.0\n"
     ]
    }
   ],
   "source": [
    "## y_pred = knn.predict(X_test)\n",
    "\n",
    "y_pred = model.predict(X_test)\n",
    "\n",
    "from sklearn.metrics import r2_score\n",
    "\n",
    "r2 = r2_score(y_test, y_pred)\n",
    "\n",
    "print(\"R2 score:\", r2)\n"
   ]
  },
  {
   "cell_type": "code",
   "execution_count": 61,
   "id": "bcbb5146",
   "metadata": {},
   "outputs": [
    {
     "name": "stdout",
     "output_type": "stream",
     "text": [
      "              precision    recall  f1-score   support\n",
      "\n",
      "           0       0.00      0.00      0.00         0\n",
      "           1       1.00      0.33      0.50         3\n",
      "\n",
      "    accuracy                           0.33         3\n",
      "   macro avg       0.50      0.17      0.25         3\n",
      "weighted avg       1.00      0.33      0.50         3\n",
      "\n"
     ]
    },
    {
     "name": "stderr",
     "output_type": "stream",
     "text": [
      "/home/giri/python/notebookenv/lib/python3.8/site-packages/sklearn/metrics/_classification.py:1469: UndefinedMetricWarning: Recall and F-score are ill-defined and being set to 0.0 in labels with no true samples. Use `zero_division` parameter to control this behavior.\n",
      "  _warn_prf(average, modifier, msg_start, len(result))\n",
      "/home/giri/python/notebookenv/lib/python3.8/site-packages/sklearn/metrics/_classification.py:1469: UndefinedMetricWarning: Recall and F-score are ill-defined and being set to 0.0 in labels with no true samples. Use `zero_division` parameter to control this behavior.\n",
      "  _warn_prf(average, modifier, msg_start, len(result))\n",
      "/home/giri/python/notebookenv/lib/python3.8/site-packages/sklearn/metrics/_classification.py:1469: UndefinedMetricWarning: Recall and F-score are ill-defined and being set to 0.0 in labels with no true samples. Use `zero_division` parameter to control this behavior.\n",
      "  _warn_prf(average, modifier, msg_start, len(result))\n"
     ]
    }
   ],
   "source": [
    "from sklearn.metrics import classification_report\n",
    "    \n",
    "## print(classification_report(y_test, regr.predict(X_test))\n",
    "\n",
    "print(classification_report(y_test, y_pred))"
   ]
  },
  {
   "cell_type": "code",
   "execution_count": 62,
   "id": "36ed9abd",
   "metadata": {},
   "outputs": [
    {
     "name": "stdout",
     "output_type": "stream",
     "text": [
      "[0]\n",
      "[[0.66666667 0.33333333]]\n"
     ]
    }
   ],
   "source": [
    "## X = [[0], [1], [2], [3]]\n",
    "## y = [0, 0, 1, 1]\n",
    "from sklearn.neighbors import KNeighborsClassifier\n",
    "neigh = KNeighborsClassifier(n_neighbors=3)\n",
    "## neigh.fit(X, y) \n",
    "fit = neigh.fit(X_train, y_train)\n",
    "\n",
    "print(neigh.predict([[1.1]]))\n",
    "\n",
    "print(neigh.predict_proba([[0.9]]))"
   ]
  },
  {
   "cell_type": "code",
   "execution_count": null,
   "id": "2406ea90",
   "metadata": {},
   "outputs": [],
   "source": []
  },
  {
   "cell_type": "code",
   "execution_count": null,
   "id": "f68f12de",
   "metadata": {},
   "outputs": [],
   "source": []
  }
 ],
 "metadata": {
  "kernelspec": {
   "display_name": "Python 3 (ipykernel)",
   "language": "python",
   "name": "python3"
  },
  "language_info": {
   "codemirror_mode": {
    "name": "ipython",
    "version": 3
   },
   "file_extension": ".py",
   "mimetype": "text/x-python",
   "name": "python",
   "nbconvert_exporter": "python",
   "pygments_lexer": "ipython3",
   "version": "3.8.10"
  }
 },
 "nbformat": 4,
 "nbformat_minor": 5
}
